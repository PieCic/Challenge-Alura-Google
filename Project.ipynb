{
  "nbformat": 4,
  "nbformat_minor": 0,
  "metadata": {
    "colab": {
      "provenance": [],
      "authorship_tag": "ABX9TyNZEe+pEbe1W9/7VaxmwXjx",
      "include_colab_link": true
    },
    "kernelspec": {
      "name": "python3",
      "display_name": "Python 3"
    },
    "language_info": {
      "name": "python"
    }
  },
  "cells": [
    {
      "cell_type": "markdown",
      "metadata": {
        "id": "view-in-github",
        "colab_type": "text"
      },
      "source": [
        "<a href=\"https://colab.research.google.com/github/PieCic/Challenge-Alura-Google/blob/main/Project.ipynb\" target=\"_parent\"><img src=\"https://colab.research.google.com/assets/colab-badge.svg\" alt=\"Open In Colab\"/></a>"
      ]
    },
    {
      "cell_type": "markdown",
      "source": [
        "Install the Google SDK"
      ],
      "metadata": {
        "id": "c3pBLRHgs-Ej"
      }
    },
    {
      "cell_type": "code",
      "execution_count": null,
      "metadata": {
        "id": "5vtH84C4s53n"
      },
      "outputs": [],
      "source": [
        "!pip install -q -U google-generativeai"
      ]
    },
    {
      "cell_type": "markdown",
      "source": [
        "Import needed libraries and API Key"
      ],
      "metadata": {
        "id": "mcpitc3ktM2x"
      }
    },
    {
      "cell_type": "code",
      "source": [
        "import numpy as np\n",
        "import pandas as pd\n",
        "import google.generativeai as genai\n",
        "from google.colab import userdata\n",
        "# Import you api key using the secret key\n",
        "api_key = userdata.get(\"SECRET_KEY\")\n",
        "genai.configure(api_key=api_key)"
      ],
      "metadata": {
        "id": "yPYa6kJwtLv5"
      },
      "execution_count": null,
      "outputs": []
    },
    {
      "cell_type": "markdown",
      "source": [
        "List the existing models of Google Generative AI"
      ],
      "metadata": {
        "id": "tj2X-Q_dtZFa"
      }
    },
    {
      "cell_type": "code",
      "source": [
        "for m in genai.list_models():\n",
        "  if \"generateContent\" in m.supported_generation_methods:\n",
        "    print(m.name)"
      ],
      "metadata": {
        "id": "WZPpcULEtYSg"
      },
      "execution_count": null,
      "outputs": []
    },
    {
      "cell_type": "markdown",
      "source": [
        "Set configurations and settings of the model"
      ],
      "metadata": {
        "id": "glFfCNZ5xHed"
      }
    },
    {
      "cell_type": "code",
      "source": [
        "generation_config = {\n",
        "    \"candidate_count\": 1,\n",
        "    \"temperature\": 0.7,\n",
        "    \"top_k\": 40,\n",
        "    \"top_p\": 0.95\n",
        "}"
      ],
      "metadata": {
        "id": "wrUEe2PjvkcP"
      },
      "execution_count": 47,
      "outputs": []
    },
    {
      "cell_type": "markdown",
      "source": [
        "Generate the model with specified configurations and settings"
      ],
      "metadata": {
        "id": "TdlZNKQU5Exn"
      }
    },
    {
      "cell_type": "code",
      "source": [
        "model = genai.GenerativeModel(model_name = \"gemini-1.5-pro-latest\",\n",
        "                              generation_config=generation_config)"
      ],
      "metadata": {
        "id": "ox7NUiNewa0p"
      },
      "execution_count": 48,
      "outputs": []
    },
    {
      "cell_type": "markdown",
      "source": [
        "Generate a text using Gemini and create the embeddings"
      ],
      "metadata": {
        "id": "NapATsovB3hi"
      }
    },
    {
      "cell_type": "code",
      "source": [
        "# Example of embedding\n",
        "title = \"A Glimpse into the Amazon's Green Symphony\"\n",
        "sample_text = (\"Title: A Glimpse into the Amazon's Green Symphony\"\n",
        "\"\\n\"\n",
        "\"\"\"\n",
        "The Amazon Rainforest, a vibrant tapestry of life, holds the title of the most biodiverse ecosystem on Earth. Within its emerald embrace, a staggering array of plant species thrives, each playing a unique role in the grand orchestra of the jungle.\n",
        "\n",
        "Towering above the forest floor, giants like the Ceiba pentandra, also known as the Kapok tree, reach for the sunlight with their massive trunks. Their broad leaves form a dense canopy, filtering the sun's rays and creating a dappled world below. Here, epiphytes like orchids and bromeliads, such as the stunning Guzmania lingulata, cling to branches, their roots drawing moisture from the humid air.\n",
        "\n",
        "Beneath the canopy, a vibrant understory unfolds. Palms like the Euterpe oleracea (Açaí palm) offer their nutrient-rich fruits, while the spiny leaves of the Socratea exorrhiza (Walking Palm) stilt the plant above the flooded forest floor. Lianas, such as the Monstera deliciosa, weave through the vegetation, their thick stems climbing towards the light.\n",
        "\n",
        "The forest floor, alive with the hum of insects, is a battlefield for sunlight. Here, diverse species of ferns like the Pteris vittata unfurl their delicate fronds, while the vibrant Heliconia flowers attract pollinators with their flamboyant colours. Even the decaying leaves play their part, providing nutrients for fungi and enriching the fertile soil.\n",
        "\n",
        "The Amazon's plant kingdom is not just a collection of individuals; it's a complex web of interactions. Trees communicate through underground fungal networks, sharing resources and warnings of danger.  Ants cultivate fungus gardens within the hollow chambers of the Cecropia tree, receiving shelter and food in return. This intricate dance of life, from the tallest trees to the smallest seedlings, makes the Amazon Rainforest a true marvel of the natural world.\n",
        "\"\"\")\n",
        "\n",
        "embeddings = genai.embed_content(model = \"models/embedding-001\",\n",
        "                                 content = sample_text,\n",
        "                                 title = title,\n",
        "                                 task_type = \"RETRIEVAL_DOCUMENT\")\n",
        "print(embeddings)"
      ],
      "metadata": {
        "id": "UmKbKM8S9M7k"
      },
      "execution_count": null,
      "outputs": []
    },
    {
      "cell_type": "markdown",
      "source": [
        "Generate further text to be used later on"
      ],
      "metadata": {
        "id": "L4NTRLSzCB3Z"
      }
    },
    {
      "cell_type": "code",
      "source": [
        "response = model.generate_content(\"A Glimpse into the Amazon's Green Symphony\")\n",
        "\n",
        "\n",
        "print(response.text)"
      ],
      "metadata": {
        "id": "NdlUb7n6wazv"
      },
      "execution_count": null,
      "outputs": []
    },
    {
      "cell_type": "markdown",
      "source": [
        "Create documents to be placed inside the df dataframe"
      ],
      "metadata": {
        "id": "5Gr3fDQMCDRh"
      }
    },
    {
      "cell_type": "code",
      "source": [
        "Doc1 = {\n",
        "    \"Title\": \"The Orchestra Members\",\n",
        "    \"Content\": \"The Amazon Rainforest is a stage teeming with life, its performers a diverse cast of plants, animals, and people. Towering Kapok trees reach for the sky, while delicate orchids cling to their branches. Jaguars stalk through the undergrowth, and macaws paint the canopy with their vibrant colors. Indigenous communities, with their deep understanding of the forest, act as its guardians, living in harmony with its rhythms. Each member plays a crucial role, from the bees that pollinate the Brazil nut trees to the fungi that decompose fallen leaves, creating a complex and interconnected web of life.\"\n",
        "}\n",
        "Doc2 = {\n",
        "    \"Title\": \"The Music of the Ecosystem\",\n",
        "    \"Content\": \"The Amazon sings a symphony of sounds, from the chattering of monkeys to the buzzing of insects and the calls of exotic birds. These sounds are not just noise; they are a language of survival, used for communication, finding mates, and warning of danger. The rainforest also dances to the rhythm of life's cycles. Seasons change, rivers rise and fall, and organisms are born, live, and die, creating an ever-evolving environment where each element is connected to the whole.\"\n",
        "}\n",
        "Doc3 = {\n",
        "    \"Title\": \"Threats to the Symphony\",\n",
        "    \"Content\": \"The Amazon's harmonious melody is facing discordant notes. Deforestation is tearing at the fabric of the forest, destroying habitats and disrupting ecological balance. Climate change brings rising temperatures and erratic weather patterns, further stressing the ecosystem. Pollution from mining and other industries poisons the land and water, while the illegal wildlife trade threatens numerous species with extinction. The very survival of this vibrant symphony is at stake.\"\n",
        "}\n",
        "Doc4 = {\n",
        "    \"Title\": \"Protecting the Symphony\",\n",
        "    \"Content\": \" Despite the challenges, a chorus of hope rises. Conservation organizations and dedicated individuals are working tirelessly to protect the Amazon. Initiatives to combat deforestation, promote sustainable development, and empower indigenous communities are gaining momentum. Individuals around the world are contributing by supporting sustainable products, reducing their carbon footprint, and raising awareness about the rainforest's importance.\"\n",
        "}\n",
        "Doc5 = {\n",
        "    \"Title\": \"The Future of the Symphony\",\n",
        "    \"Content\": \"The Amazon, though wounded, remains resilient. Its ability to regenerate and recover offers hope for the future. However, the time to act is now. By joining forces and working together, we can ensure that the Amazon's green symphony continues to resonate for generations to come. Each individual can play a part, becoming a steward of this irreplaceable ecosystem and ensuring that its melody of life continues to inspire and enrich our planet.\"\n",
        "}\n",
        "documents = [Doc1, Doc2, Doc3]"
      ],
      "metadata": {
        "id": "ngjVXWHi9oLD"
      },
      "execution_count": 71,
      "outputs": []
    },
    {
      "cell_type": "markdown",
      "source": [
        "Create a dataframe trhough pandas library"
      ],
      "metadata": {
        "id": "9J1EXCJo-lS3"
      }
    },
    {
      "cell_type": "code",
      "source": [
        "df = pd.DataFrame(documents)\n",
        "df"
      ],
      "metadata": {
        "id": "I4hYPbjq-bLa"
      },
      "execution_count": null,
      "outputs": []
    },
    {
      "cell_type": "markdown",
      "source": [
        "Create the embed_fn function to be used with the elements of df dataframe"
      ],
      "metadata": {
        "id": "A0JQhbnXCN7S"
      }
    },
    {
      "cell_type": "code",
      "source": [
        "model = \"models/embedding-001\"\n",
        "def embed_fn(title,text):\n",
        "  return genai.embed_content(model=model,\n",
        "                             content=text,\n",
        "                             title=title,\n",
        "                             task_type=\"RETRIEVAL_DOCUMENT\")[\"embedding\"]\n",
        "\n",
        "df[\"embeddings\"] = df.apply(lambda row: embed_fn(row[\"Title\"], row[\"Content\"]), axis=1)\n",
        "df"
      ],
      "metadata": {
        "id": "DVQMMCZH_teD"
      },
      "execution_count": 73,
      "outputs": []
    },
    {
      "cell_type": "markdown",
      "source": [
        "Create the function for which the AI generate and search content through your embeddings"
      ],
      "metadata": {
        "id": "coCinYclCVnh"
      }
    },
    {
      "cell_type": "code",
      "source": [
        "def generate_and_search_consult(consult,base,model):\n",
        "  embedding_consult = genai.embed_content(model=model,\n",
        "                                          content=consult,\n",
        "                                          task_type=\"RETRIEVAL_DOCUMENT\")[\"embedding\"]\n",
        "  scalar_product = np.dot(np.stack(df[\"embeddings\"]), embedding_consult)\n",
        "\n",
        "  index = np.argmax(scalar_product)\n",
        "  return df.loc[index][\"Content\"]"
      ],
      "metadata": {
        "id": "HU_VBexl_72k"
      },
      "execution_count": 75,
      "outputs": []
    },
    {
      "cell_type": "markdown",
      "source": [
        "Ask the AI about df elements"
      ],
      "metadata": {
        "id": "jSondJvsCeIR"
      }
    },
    {
      "cell_type": "code",
      "source": [
        "consult = \"What is the Future of the Symphony of the Amazon?\"\n",
        "\n",
        "paragraph = generate_and_search_consult(consult,df,model)\n",
        "print(paragraph)"
      ],
      "metadata": {
        "id": "J1h5YqIHABSb"
      },
      "execution_count": null,
      "outputs": []
    },
    {
      "cell_type": "markdown",
      "source": [
        "Ask the AI to rewrite the text for a first grade kid"
      ],
      "metadata": {
        "id": "rbGZ1xRvCiAB"
      }
    },
    {
      "cell_type": "code",
      "source": [
        "prompt = f\"Rewrite this text: {paragraph}, to be easy to understand for a child of first grade\"\n",
        "\n",
        "model_2 = genai.GenerativeModel(\"gemini-1.0-pro\")\n",
        "response = model_2.generate_content(prompt)\n",
        "print(response.text)"
      ],
      "metadata": {
        "id": "gplqH8YuBSka"
      },
      "execution_count": null,
      "outputs": []
    }
  ]
}